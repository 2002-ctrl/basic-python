{
 "cells": [
  {
   "cell_type": "code",
   "execution_count": 19,
   "id": "1d764424-4e72-4934-a8cf-6cef96199186",
   "metadata": {},
   "outputs": [
    {
     "name": "stdin",
     "output_type": "stream",
     "text": [
      "Enter your course name python\n"
     ]
    },
    {
     "name": "stdout",
     "output_type": "stream",
     "text": [
      "Your course is not avilabel in our institute\n"
     ]
    }
   ],
   "source": [
    "course = input('Enter your course name')\n",
    "\n",
    "if course == 'Python':\n",
    "    print('Yes python course is Provided')\n",
    "elif course == 'Java':\n",
    "    print('Yes java course is provided')\n",
    "else:\n",
    "    print('Your course is not avilabel in our institute')"
   ]
  },
  {
   "cell_type": "code",
   "execution_count": 65,
   "id": "7887ce61-e207-46ec-981f-e246cee5e66b",
   "metadata": {
    "scrolled": true
   },
   "outputs": [
    {
     "name": "stdin",
     "output_type": "stream",
     "text": [
      "choose a meal you want eat PIZZ\n"
     ]
    },
    {
     "name": "stdout",
     "output_type": "stream",
     "text": [
      "thanksfor visit\n"
     ]
    }
   ],
   "source": [
    "meal= input('choose a meal you want eat')\n",
    "if meal == 'BIRYANI':\n",
    "   print('meal is available')\n",
    "elif meal == 'PIZZA':\n",
    "   print('meal is available')\n",
    "elif meal == 'Burger':\n",
    "   print('MEAL is available at another store')\n",
    "else:\n",
    "   print('thanksfor visit')"
   ]
  },
  {
   "cell_type": "code",
   "execution_count": 81,
   "id": "98de8ba2-9685-4965-85c2-6d91fddc3374",
   "metadata": {},
   "outputs": [],
   "source": [
    "l = [1,2,3,4]"
   ]
  },
  {
   "cell_type": "code",
   "execution_count": 105,
   "id": "36e56148-9f08-47ff-b45b-871ca22eb1d4",
   "metadata": {},
   "outputs": [
    {
     "name": "stdout",
     "output_type": "stream",
     "text": [
      "1\n",
      "2\n",
      "3\n",
      "4\n",
      "5\n"
     ]
    }
   ],
   "source": [
    "for num in l:\n",
    "    print(num) "
   ]
  },
  {
   "cell_type": "code",
   "execution_count": null,
   "id": "d448f9da-e9cc-4602-9eab-60d41e556c4c",
   "metadata": {},
   "outputs": [],
   "source": []
  },
  {
   "cell_type": "code",
   "execution_count": 101,
   "id": "1dff7204-0147-4c4d-80b0-34a33d15a888",
   "metadata": {},
   "outputs": [],
   "source": [
    "l = [1, 2, 3, 4, 5]"
   ]
  },
  {
   "cell_type": "code",
   "execution_count": 103,
   "id": "52c087ff-67fb-4fd7-b925-058858ad5eeb",
   "metadata": {},
   "outputs": [
    {
     "name": "stdout",
     "output_type": "stream",
     "text": [
      "1\n",
      "2\n",
      "3\n",
      "4\n",
      "5\n"
     ]
    }
   ],
   "source": [
    "for num in l:\n",
    "    print(num)"
   ]
  },
  {
   "cell_type": "code",
   "execution_count": 109,
   "id": "a5b65931-dcfd-4c20-9164-4d5078748f8f",
   "metadata": {},
   "outputs": [
    {
     "name": "stdout",
     "output_type": "stream",
     "text": [
      "hellow\n",
      "hellow\n",
      "hellow\n",
      "hellow\n",
      "hellow\n"
     ]
    }
   ],
   "source": [
    "for num in I:\n",
    "    print('hellow')\n",
    "   "
   ]
  },
  {
   "cell_type": "code",
   "execution_count": null,
   "id": "d6d5a4e5-c4ea-4bfc-99e3-bf488b3defbe",
   "metadata": {},
   "outputs": [],
   "source": []
  }
 ],
 "metadata": {
  "kernelspec": {
   "display_name": "Python 3 (ipykernel)",
   "language": "python",
   "name": "python3"
  },
  "language_info": {
   "codemirror_mode": {
    "name": "ipython",
    "version": 3
   },
   "file_extension": ".py",
   "mimetype": "text/x-python",
   "name": "python",
   "nbconvert_exporter": "python",
   "pygments_lexer": "ipython3",
   "version": "3.12.4"
  }
 },
 "nbformat": 4,
 "nbformat_minor": 5
}
