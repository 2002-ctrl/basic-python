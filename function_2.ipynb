{
 "cells": [
  {
   "cell_type": "code",
   "execution_count": 40,
   "id": "1c47af10-6310-4472-907d-cefe5109c8fb",
   "metadata": {},
   "outputs": [],
   "source": [
    "def test1(*args):\n",
    "    l = []\n",
    "    for i in args:\n",
    "        if type(i ) == str:\n",
    "            for letter in i :\n",
    "                l.append(letter)\n",
    "        return l\n",
    "\n"
   ]
  },
  {
   "cell_type": "code",
   "execution_count": 42,
   "id": "cd13f0b1-1743-4165-8850-3caae1a1f183",
   "metadata": {},
   "outputs": [
    {
     "data": {
      "text/plain": [
       "[]"
      ]
     },
     "execution_count": 42,
     "metadata": {},
     "output_type": "execute_result"
    }
   ],
   "source": [
    "test1(1,1.5,True,'Hellow','Data','Science')"
   ]
  },
  {
   "cell_type": "code",
   "execution_count": 44,
   "id": "561d2e64-7280-4be5-ae4f-6a3eebee6615",
   "metadata": {},
   "outputs": [
    {
     "name": "stdout",
     "output_type": "stream",
     "text": [
      "H\n",
      "e\n",
      "l\n",
      "l\n",
      "o\n",
      "w\n"
     ]
    }
   ],
   "source": [
    "for i in 'Hellow':\n",
    "    print(i)"
   ]
  },
  {
   "cell_type": "code",
   "execution_count": 54,
   "id": "3e20c9e7-1ed8-4d3a-aee1-fc63fb9b2ca0",
   "metadata": {},
   "outputs": [],
   "source": [
    "def test3(a, *args):\n",
    "    return a , args"
   ]
  },
  {
   "cell_type": "code",
   "execution_count": 56,
   "id": "c0534ba9-a18e-4ded-8d7f-c48c73755f4f",
   "metadata": {},
   "outputs": [
    {
     "data": {
      "text/plain": [
       "(1, (2, 3, 4, 5, 6))"
      ]
     },
     "execution_count": 56,
     "metadata": {},
     "output_type": "execute_result"
    }
   ],
   "source": [
    "test3(1,2,3,4,5,6)"
   ]
  },
  {
   "cell_type": "code",
   "execution_count": null,
   "id": "8731e9d5-13a1-4700-8f12-0587df66e087",
   "metadata": {},
   "outputs": [],
   "source": [
    "def test5(a,b,c, *args):\n",
    "    return args , a,b,c"
   ]
  },
  {
   "cell_type": "code",
   "execution_count": 58,
   "id": "91cfb761-644b-435f-a8b7-8ce538071703",
   "metadata": {},
   "outputs": [
    {
     "data": {
      "text/plain": [
       "(1, (2, 3, 4, 5, 6, 7))"
      ]
     },
     "execution_count": 58,
     "metadata": {},
     "output_type": "execute_result"
    }
   ],
   "source": [
    "test3(1,2,3,4,5,6,7)"
   ]
  },
  {
   "cell_type": "code",
   "execution_count": 73,
   "id": "ddafee71-c9e7-43a6-8ef3-9669c9504ab4",
   "metadata": {},
   "outputs": [],
   "source": [
    "def test4(**kwargs):\n",
    "   return kwargs"
   ]
  },
  {
   "cell_type": "code",
   "execution_count": 75,
   "id": "8f7938f8-c8b1-4af3-b484-12753e5dc935",
   "metadata": {},
   "outputs": [
    {
     "data": {
      "text/plain": [
       "{'a': 1, 'b': 2, 'c': 3, 'd': 4}"
      ]
     },
     "execution_count": 75,
     "metadata": {},
     "output_type": "execute_result"
    }
   ],
   "source": [
    "test4(a=1, b=2, c=3, d=4 )"
   ]
  },
  {
   "cell_type": "code",
   "execution_count": 79,
   "id": "5768fadc-6e25-47ef-bef6-764eb3455633",
   "metadata": {},
   "outputs": [],
   "source": [
    "def test5(**kwargs):\n",
    "    return kwargs"
   ]
  },
  {
   "cell_type": "code",
   "execution_count": 81,
   "id": "88466fcd-fb04-4345-9dfc-f5187d80e908",
   "metadata": {},
   "outputs": [
    {
     "data": {
      "text/plain": [
       "{'a': 1, 'b': 2, 'c': 3, 'd': 5}"
      ]
     },
     "execution_count": 81,
     "metadata": {},
     "output_type": "execute_result"
    }
   ],
   "source": [
    "test5(a=1,b=2,c=3,d=5)"
   ]
  },
  {
   "cell_type": "code",
   "execution_count": 85,
   "id": "b9d8af4d-c395-4763-9476-ccd7f5d8b821",
   "metadata": {},
   "outputs": [],
   "source": [
    "def test6(**kwargs):\n",
    "    return kwargs. values()"
   ]
  },
  {
   "cell_type": "code",
   "execution_count": 87,
   "id": "96dbd425-dd3e-4f37-85e9-60569868c563",
   "metadata": {},
   "outputs": [
    {
     "data": {
      "text/plain": [
       "dict_values([1, 2, 3])"
      ]
     },
     "execution_count": 87,
     "metadata": {},
     "output_type": "execute_result"
    }
   ],
   "source": [
    "test6(a=1,b=2,c=3)"
   ]
  },
  {
   "cell_type": "code",
   "execution_count": 89,
   "id": "dbd1e607-69c4-40cd-839d-6be01d94bcd5",
   "metadata": {},
   "outputs": [],
   "source": [
    "def test7(**kwargs):\n",
    "    return kwargs.keys()"
   ]
  },
  {
   "cell_type": "code",
   "execution_count": 91,
   "id": "8638e8b3-2292-4d60-bd46-0126072f0d42",
   "metadata": {},
   "outputs": [
    {
     "data": {
      "text/plain": [
       "dict_keys(['a', 'b', 'c'])"
      ]
     },
     "execution_count": 91,
     "metadata": {},
     "output_type": "execute_result"
    }
   ],
   "source": [
    "test7(a=1,b=2,c=3)"
   ]
  },
  {
   "cell_type": "code",
   "execution_count": 107,
   "id": "0f97797f-5dee-4020-be77-dc59cb0fc071",
   "metadata": {},
   "outputs": [],
   "source": [
    "def test8(*argus,**kwargs):\n",
    "    return argus,kwargs"
   ]
  },
  {
   "cell_type": "code",
   "execution_count": 109,
   "id": "0a79c90b-e0f9-4889-bfd2-3a7b6660f736",
   "metadata": {},
   "outputs": [
    {
     "data": {
      "text/plain": [
       "((1, 2, 3, 4, 6), {'a': 2, 'b': 3, 'v': 4})"
      ]
     },
     "execution_count": 109,
     "metadata": {},
     "output_type": "execute_result"
    }
   ],
   "source": [
    "test8(1,2,3,4,6,a=2, b=3, v=4)"
   ]
  },
  {
   "cell_type": "code",
   "execution_count": 127,
   "id": "1d848831-55f7-44b0-876a-cd83c5297fc1",
   "metadata": {},
   "outputs": [],
   "source": [
    "l= lambda a: a + 100"
   ]
  },
  {
   "cell_type": "code",
   "execution_count": 131,
   "id": "f8a26826-0ee5-4f1a-93c0-9f77197a1205",
   "metadata": {},
   "outputs": [
    {
     "data": {
      "text/plain": [
       "150"
      ]
     },
     "execution_count": 131,
     "metadata": {},
     "output_type": "execute_result"
    }
   ],
   "source": [
    "l(50)"
   ]
  },
  {
   "cell_type": "code",
   "execution_count": null,
   "id": "d3ebe569-2227-455c-bdc8-4ccc87f0f1b1",
   "metadata": {},
   "outputs": [],
   "source": [
    "l= lambda a: a *2"
   ]
  },
  {
   "cell_type": "code",
   "execution_count": 135,
   "id": "d41eac78-eb91-4470-a3eb-c44b4b4b855f",
   "metadata": {},
   "outputs": [
    {
     "data": {
      "text/plain": [
       "110"
      ]
     },
     "execution_count": 135,
     "metadata": {},
     "output_type": "execute_result"
    }
   ],
   "source": [
    "l(10)"
   ]
  },
  {
   "cell_type": "code",
   "execution_count": null,
   "id": "0a57c351-2108-4c61-890f-d380610b3f37",
   "metadata": {},
   "outputs": [],
   "source": [
    "l= lambda a: a - 10 +200"
   ]
  },
  {
   "cell_type": "code",
   "execution_count": 137,
   "id": "2c193f29-e6cd-4eaf-8939-0309dff7d659",
   "metadata": {},
   "outputs": [
    {
     "data": {
      "text/plain": [
       "150"
      ]
     },
     "execution_count": 137,
     "metadata": {},
     "output_type": "execute_result"
    }
   ],
   "source": [
    "l(50)"
   ]
  },
  {
   "cell_type": "code",
   "execution_count": 145,
   "id": "b7b431dd-735e-4635-aff7-c06507fd2882",
   "metadata": {},
   "outputs": [],
   "source": [
    "l= lambda a,b: (a+b, a*b)"
   ]
  },
  {
   "cell_type": "code",
   "execution_count": 147,
   "id": "ef644dd7-f714-4a8d-a86b-3e1d6a7f4c6b",
   "metadata": {},
   "outputs": [
    {
     "data": {
      "text/plain": [
       "(11, 30)"
      ]
     },
     "execution_count": 147,
     "metadata": {},
     "output_type": "execute_result"
    }
   ],
   "source": [
    "l(5,6)"
   ]
  },
  {
   "cell_type": "code",
   "execution_count": 164,
   "id": "76137131-91e5-45d8-b1d2-85a34e577a77",
   "metadata": {},
   "outputs": [],
   "source": [
    "c = lambda a : [i for i in a ]"
   ]
  },
  {
   "cell_type": "code",
   "execution_count": 168,
   "id": "5e01ebcd-2b49-45fd-aa9e-8ed249b7ef26",
   "metadata": {},
   "outputs": [
    {
     "data": {
      "text/plain": [
       "[1, 2, 3, 4, 5]"
      ]
     },
     "execution_count": 168,
     "metadata": {},
     "output_type": "execute_result"
    }
   ],
   "source": [
    "c ([1,2,3,4,5])"
   ]
  },
  {
   "cell_type": "code",
   "execution_count": null,
   "id": "cd8a82c5-4ea9-4c98-87c5-8997c2d7e336",
   "metadata": {},
   "outputs": [],
   "source": []
  },
  {
   "cell_type": "code",
   "execution_count": null,
   "id": "b317772c-56cc-42d5-b708-650983bcaf89",
   "metadata": {},
   "outputs": [],
   "source": []
  }
 ],
 "metadata": {
  "kernelspec": {
   "display_name": "Python 3 (ipykernel)",
   "language": "python",
   "name": "python3"
  },
  "language_info": {
   "codemirror_mode": {
    "name": "ipython",
    "version": 3
   },
   "file_extension": ".py",
   "mimetype": "text/x-python",
   "name": "python",
   "nbconvert_exporter": "python",
   "pygments_lexer": "ipython3",
   "version": "3.12.4"
  }
 },
 "nbformat": 4,
 "nbformat_minor": 5
}
