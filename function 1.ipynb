{
 "cells": [
  {
   "cell_type": "code",
   "execution_count": 11,
   "id": "3b786503-b6d8-4b55-8324-ad09cf68c011",
   "metadata": {},
   "outputs": [],
   "source": [
    "  def test():\n",
    "      print('hellow python')\n",
    "    "
   ]
  },
  {
   "cell_type": "code",
   "execution_count": 13,
   "id": "04d46a6c-7bda-447c-a619-e7bbddcb620a",
   "metadata": {},
   "outputs": [
    {
     "name": "stdout",
     "output_type": "stream",
     "text": [
      "hellow python\n"
     ]
    }
   ],
   "source": [
    "  test()"
   ]
  },
  {
   "cell_type": "code",
   "execution_count": 13,
   "id": "7e670b65-840a-438e-bfdc-cc75c23d6f31",
   "metadata": {},
   "outputs": [],
   "source": [
    "def test2():\n",
    "    return  'Hellow python2'"
   ]
  },
  {
   "cell_type": "code",
   "execution_count": 15,
   "id": "f699401b-ebb1-4cb7-a0dd-73e13addabe8",
   "metadata": {},
   "outputs": [
    {
     "data": {
      "text/plain": [
       "'Hellow python2'"
      ]
     },
     "execution_count": 15,
     "metadata": {},
     "output_type": "execute_result"
    }
   ],
   "source": [
    "test2()"
   ]
  },
  {
   "cell_type": "code",
   "execution_count": 19,
   "id": "aa80b5cc-715f-4261-b6d1-67923a2ea425",
   "metadata": {},
   "outputs": [
    {
     "data": {
      "text/plain": [
       "str"
      ]
     },
     "execution_count": 19,
     "metadata": {},
     "output_type": "execute_result"
    }
   ],
   "source": [
    " type(test2())"
   ]
  },
  {
   "cell_type": "code",
   "execution_count": 5,
   "id": "13b6a82d-5f67-493f-a394-dc85857144b7",
   "metadata": {},
   "outputs": [],
   "source": [
    "def test3():\n",
    "    return 'this is test 3 function'"
   ]
  },
  {
   "cell_type": "code",
   "execution_count": 7,
   "id": "b96a8250-b3b7-4d4f-8f87-601c7998ac5b",
   "metadata": {},
   "outputs": [
    {
     "data": {
      "text/plain": [
       "'this is test 3 function'"
      ]
     },
     "execution_count": 7,
     "metadata": {},
     "output_type": "execute_result"
    }
   ],
   "source": [
    " test3()"
   ]
  },
  {
   "cell_type": "code",
   "execution_count": 3,
   "id": "e5e9e054-a612-4f35-a6cc-eddecf974de3",
   "metadata": {},
   "outputs": [],
   "source": [
    " def test5(a):\n",
    "    return a\n",
    "         "
   ]
  },
  {
   "cell_type": "code",
   "execution_count": 9,
   "id": "518e9079-542f-40a7-bc3b-6f3bd19fc6e4",
   "metadata": {},
   "outputs": [
    {
     "data": {
      "text/plain": [
       "100"
      ]
     },
     "execution_count": 9,
     "metadata": {},
     "output_type": "execute_result"
    }
   ],
   "source": [
    "test5(100)"
   ]
  },
  {
   "cell_type": "code",
   "execution_count": 17,
   "id": "c8c144e5-be68-43f9-8b1c-ca6ae9c523e8",
   "metadata": {},
   "outputs": [],
   "source": [
    "def test6(a,b):\n",
    "    return a+b"
   ]
  },
  {
   "cell_type": "code",
   "execution_count": 19,
   "id": "eb43a9f5-44a4-417e-97d0-95893091f1b6",
   "metadata": {},
   "outputs": [
    {
     "data": {
      "text/plain": [
       "250"
      ]
     },
     "execution_count": 19,
     "metadata": {},
     "output_type": "execute_result"
    }
   ],
   "source": [
    "test6(200,50)"
   ]
  },
  {
   "cell_type": "code",
   "execution_count": 31,
   "id": "70f3d87f-2e76-4822-a0d6-7e96c67c7560",
   "metadata": {},
   "outputs": [],
   "source": [
    "def square(a):\n",
    "    return a * a\n",
    "    "
   ]
  },
  {
   "cell_type": "code",
   "execution_count": 33,
   "id": "3df51743-8a5f-4167-90bf-1eed31959487",
   "metadata": {},
   "outputs": [
    {
     "data": {
      "text/plain": [
       "10000"
      ]
     },
     "execution_count": 33,
     "metadata": {},
     "output_type": "execute_result"
    }
   ],
   "source": [
    "square(100)"
   ]
  },
  {
   "cell_type": "code",
   "execution_count": 49,
   "id": "0a021383-2a2b-4903-90a8-f5a38bb044d8",
   "metadata": {},
   "outputs": [],
   "source": [
    "def devision(a,b):\n",
    "    return a/b"
   ]
  },
  {
   "cell_type": "code",
   "execution_count": 55,
   "id": "689ee921-d3f8-49ad-b619-69b415657feb",
   "metadata": {},
   "outputs": [
    {
     "data": {
      "text/plain": [
       "100.0"
      ]
     },
     "execution_count": 55,
     "metadata": {},
     "output_type": "execute_result"
    }
   ],
   "source": [
    "devision(2500, 25)"
   ]
  },
  {
   "cell_type": "code",
   "execution_count": 61,
   "id": "98bf3827-3ff5-49e5-b668-258c46156755",
   "metadata": {},
   "outputs": [],
   "source": [
    "def cube(a):\n",
    "    return a ** 3"
   ]
  },
  {
   "cell_type": "code",
   "execution_count": 63,
   "id": "b67a6521-4183-4dde-9c5c-ab271eac2d4a",
   "metadata": {},
   "outputs": [
    {
     "data": {
      "text/plain": [
       "729"
      ]
     },
     "execution_count": 63,
     "metadata": {},
     "output_type": "execute_result"
    }
   ],
   "source": [
    "cube(9)"
   ]
  },
  {
   "cell_type": "code",
   "execution_count": 69,
   "id": "611c6b4b-3346-4f36-a86c-84b466b7e1c8",
   "metadata": {},
   "outputs": [],
   "source": [
    "def odd_even(num):\n",
    "    if num % 2 == 0:\n",
    "        return 'this is even number', num\n",
    "    elif num % 2 != 0:\n",
    "        return 'this is odd number', num\n",
    "    else:\n",
    "        return 'check number'"
   ]
  },
  {
   "cell_type": "code",
   "execution_count": 71,
   "id": "840a0871-e545-4196-9999-74ccfca8f51e",
   "metadata": {},
   "outputs": [
    {
     "data": {
      "text/plain": [
       "('this is odd number', 9)"
      ]
     },
     "execution_count": 71,
     "metadata": {},
     "output_type": "execute_result"
    }
   ],
   "source": [
    "odd_even(9)"
   ]
  },
  {
   "cell_type": "code",
   "execution_count": 73,
   "id": "42b42dd6-458b-4311-8b85-4a9fef6ae763",
   "metadata": {},
   "outputs": [
    {
     "data": {
      "text/plain": [
       "('this is odd number', 333)"
      ]
     },
     "execution_count": 73,
     "metadata": {},
     "output_type": "execute_result"
    }
   ],
   "source": [
    "odd_even(333)"
   ]
  },
  {
   "cell_type": "code",
   "execution_count": 75,
   "id": "e515db59-be08-4846-8cad-11692122e816",
   "metadata": {},
   "outputs": [
    {
     "data": {
      "text/plain": [
       "('this is odd number', 125548952147)"
      ]
     },
     "execution_count": 75,
     "metadata": {},
     "output_type": "execute_result"
    }
   ],
   "source": [
    "odd_even(125548952147)"
   ]
  },
  {
   "cell_type": "code",
   "execution_count": null,
   "id": "bf6170de-ebbf-4f25-a599-4130933d0b2d",
   "metadata": {},
   "outputs": [],
   "source": []
  }
 ],
 "metadata": {
  "kernelspec": {
   "display_name": "Python 3 (ipykernel)",
   "language": "python",
   "name": "python3"
  },
  "language_info": {
   "codemirror_mode": {
    "name": "ipython",
    "version": 3
   },
   "file_extension": ".py",
   "mimetype": "text/x-python",
   "name": "python",
   "nbconvert_exporter": "python",
   "pygments_lexer": "ipython3",
   "version": "3.12.4"
  }
 },
 "nbformat": 4,
 "nbformat_minor": 5
}
