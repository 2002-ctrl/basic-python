{
 "cells": [
  {
   "cell_type": "code",
   "execution_count": 44,
   "id": "4adab899-0c37-4e73-b6d8-e75c8250e7b6",
   "metadata": {},
   "outputs": [],
   "source": [
    "class house:\n",
    "    def __init__(self, area, floors, parking, color):\n",
    "        self.area = area\n",
    "        self.floors = floors\n",
    "        self.color = color\n",
    "        def price(self):\n",
    "            return self.Area * 1200"
   ]
  },
  {
   "cell_type": "code",
   "execution_count": 46,
   "id": "deaf7a93-c499-4bdf-bf80-8d0a4a1bb0c6",
   "metadata": {},
   "outputs": [],
   "source": [
    "om = house(1500 , '2 floors','Yes', 'white')"
   ]
  },
  {
   "cell_type": "code",
   "execution_count": 50,
   "id": "dd05d8fc-f9b9-417b-9472-0fb7c0a68b0a",
   "metadata": {},
   "outputs": [
    {
     "data": {
      "text/plain": [
       "'white'"
      ]
     },
     "execution_count": 50,
     "metadata": {},
     "output_type": "execute_result"
    }
   ],
   "source": [
    "om.color"
   ]
  },
  {
   "cell_type": "markdown",
   "id": "01def22e-fd02-4afe-8d53-ab60c91d45d1",
   "metadata": {},
   "source": []
  },
  {
   "cell_type": "code",
   "execution_count": null,
   "id": "61c0899c-9939-4bb9-8007-05e1174fb641",
   "metadata": {},
   "outputs": [],
   "source": []
  },
  {
   "cell_type": "code",
   "execution_count": null,
   "id": "fc368a62-1f1d-4faf-9685-7485b6f6975e",
   "metadata": {},
   "outputs": [],
   "source": []
  },
  {
   "cell_type": "code",
   "execution_count": null,
   "id": "38728488-0a46-4496-bd56-c6c362046c23",
   "metadata": {},
   "outputs": [],
   "source": []
  },
  {
   "cell_type": "code",
   "execution_count": 52,
   "id": "afa6549b-7a3a-4c4e-8e71-0b171cd7a974",
   "metadata": {},
   "outputs": [],
   "source": [
    "class car:\n",
    "    def __init__(self, type,color,engine,fuel):\n",
    "        self.type = type\n",
    "        self.color = color\n",
    "        self.engine = engine\n",
    "        self.fuel = fuel"
   ]
  },
  {
   "cell_type": "code",
   "execution_count": 54,
   "id": "bdc1d250-2ec5-4c0f-846f-cf4ca02c018e",
   "metadata": {},
   "outputs": [],
   "source": [
    "nexon = car(\"suv\",\"red\",1500,\" petrol\")"
   ]
  },
  {
   "cell_type": "code",
   "execution_count": 56,
   "id": "a6f7cf3a-cf5b-4457-aedf-57a20b8ba905",
   "metadata": {},
   "outputs": [
    {
     "data": {
      "text/plain": [
       "'suv'"
      ]
     },
     "execution_count": 56,
     "metadata": {},
     "output_type": "execute_result"
    }
   ],
   "source": [
    "nexon.type"
   ]
  },
  {
   "cell_type": "code",
   "execution_count": 58,
   "id": "6752cc01-37fe-44cb-92df-0ff90084077e",
   "metadata": {},
   "outputs": [
    {
     "data": {
      "text/plain": [
       "1500"
      ]
     },
     "execution_count": 58,
     "metadata": {},
     "output_type": "execute_result"
    }
   ],
   "source": [
    "nexon.engine"
   ]
  },
  {
   "cell_type": "code",
   "execution_count": 60,
   "id": "dde10959-5246-4601-a000-a8da590bb06e",
   "metadata": {},
   "outputs": [
    {
     "data": {
      "text/plain": [
       "' petrol'"
      ]
     },
     "execution_count": 60,
     "metadata": {},
     "output_type": "execute_result"
    }
   ],
   "source": [
    "nexon.fuel"
   ]
  },
  {
   "cell_type": "code",
   "execution_count": 76,
   "id": "46bc152d-4589-40ec-a90a-21da887685a9",
   "metadata": {},
   "outputs": [],
   "source": [
    "class name:\n",
    "    def __init__(self, name,middlename,surname,age):\n",
    "          self.name = name\n",
    "          self.middlename = middlename\n",
    "          self.surname = surname\n",
    "          self.age = age"
   ]
  },
  {
   "cell_type": "code",
   "execution_count": 78,
   "id": "5386def3-2dde-4320-9ecc-376078da1374",
   "metadata": {},
   "outputs": [],
   "source": [
    "a =name(\"shubham\",\"chandrakant\", \"kamble\",22)"
   ]
  },
  {
   "cell_type": "code",
   "execution_count": 80,
   "id": "45258526-8e8a-4629-bbc6-0e4da5942476",
   "metadata": {},
   "outputs": [
    {
     "data": {
      "text/plain": [
       "'shubham'"
      ]
     },
     "execution_count": 80,
     "metadata": {},
     "output_type": "execute_result"
    }
   ],
   "source": [
    "a.name"
   ]
  },
  {
   "cell_type": "code",
   "execution_count": 82,
   "id": "786d2d5a-1e88-4694-b776-a198bb296313",
   "metadata": {},
   "outputs": [
    {
     "data": {
      "text/plain": [
       "'chandrakant'"
      ]
     },
     "execution_count": 82,
     "metadata": {},
     "output_type": "execute_result"
    }
   ],
   "source": [
    "a.middlename"
   ]
  },
  {
   "cell_type": "code",
   "execution_count": 84,
   "id": "59060d76-a6e6-410b-beed-217a2435609b",
   "metadata": {},
   "outputs": [
    {
     "data": {
      "text/plain": [
       "'kamble'"
      ]
     },
     "execution_count": 84,
     "metadata": {},
     "output_type": "execute_result"
    }
   ],
   "source": [
    "a.surname"
   ]
  },
  {
   "cell_type": "code",
   "execution_count": 86,
   "id": "e6d27253-6b2b-47bb-9c83-422cf24e4429",
   "metadata": {},
   "outputs": [
    {
     "data": {
      "text/plain": [
       "22"
      ]
     },
     "execution_count": 86,
     "metadata": {},
     "output_type": "execute_result"
    }
   ],
   "source": [
    "a.age"
   ]
  },
  {
   "cell_type": "code",
   "execution_count": null,
   "id": "4b68f3be-34e3-4bb8-a2c8-28a3e96bb58e",
   "metadata": {},
   "outputs": [],
   "source": []
  }
 ],
 "metadata": {
  "kernelspec": {
   "display_name": "Python 3 (ipykernel)",
   "language": "python",
   "name": "python3"
  },
  "language_info": {
   "codemirror_mode": {
    "name": "ipython",
    "version": 3
   },
   "file_extension": ".py",
   "mimetype": "text/x-python",
   "name": "python",
   "nbconvert_exporter": "python",
   "pygments_lexer": "ipython3",
   "version": "3.12.4"
  }
 },
 "nbformat": 4,
 "nbformat_minor": 5
}
